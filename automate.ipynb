{
 "cells": [
  {
   "cell_type": "code",
   "execution_count": 6,
   "id": "9da7fc6c-c2c7-44d3-a935-26f5c48a9b9b",
   "metadata": {},
   "outputs": [],
   "source": [
    "from bs4 import BeautifulSoup\n",
    "import requests\n",
    "import pandas as pd\n",
    "import time"
   ]
  },
  {
   "cell_type": "code",
   "execution_count": 7,
   "id": "58214d99-1a6b-4140-bd6d-f34f9e6ccbc0",
   "metadata": {},
   "outputs": [],
   "source": [
    "animeList=[]"
   ]
  },
  {
   "cell_type": "code",
   "execution_count": 8,
   "id": "5ab93442-c193-49e4-b617-4c6b65eef7e1",
   "metadata": {},
   "outputs": [],
   "source": [
    "base_url = \"\"\n",
    "for limit in range(0,x,50):\n",
    "    url = f\"{base_url}{limit}\"\n",
    "    response = requests.get(url)\n",
    "    soup = BeautifulSoup(response.content, 'html.parser')\n",
    "    anime_data = soup.findAll('tr', attrs={'class': 'ranking-list'})\n",
    "    for store in anime_data:\n",
    "        data = store\n",
    "        link = data.find('td', class_='title').find('a', class_='hoverinfo_trigger fl-l ml12 mr8')\n",
    "        anime_url = link['href']\n",
    "        anime_response = requests.get(anime_url)\n",
    "        pageAnime = BeautifulSoup(anime_response.content, 'html.parser')\n",
    "        anime_title = pageAnime.find('h1', class_='title-name').find('strong').text\n",
    "        anime_score = pageAnime.find('div', class_='score-label').text\n",
    "        anime_description = pageAnime.find('p', itemprop='description').text\n",
    "        anime_recommend = pageAnime.find('div', class_='recommended').find('strong').text\n",
    "        anime_mixedfeelings = pageAnime.find('div', class_='mixed-feelings').find('strong').text\n",
    "        anime_notRecommend = pageAnime.find('div', class_='not-recommended').find('strong').text\n",
    "        anime_genre = pageAnime.findAll('span', itemprop='genre')\n",
    "        anime_popularity = pageAnime.find('span', class_='numbers popularity').find('strong').text\n",
    "        try:\n",
    "            anime_image = pageAnime.find('div', class_='leftside').find('img')\n",
    "            image_src = anime_image.get('data-src', 'N/A')\n",
    "        except (AttributeError, KeyError):\n",
    "            image_src = 'N/A'\n",
    "\n",
    "        ranking=pageAnime.find('span',class_='numbers ranked').find('strong').text\n",
    "        def get_info(soup, label):\n",
    "            tag = soup.find('span', class_='dark_text', string=lambda t: label in t)\n",
    "            if tag:\n",
    "                return tag.next_sibling.strip() if not tag.find_next_sibling('a') else tag.find_next_sibling('a').text\n",
    "            return 'N/A'\n",
    "        aired = get_info(pageAnime, 'Aired:')\n",
    "        episode = get_info(pageAnime, 'Episodes:')\n",
    "        rate = get_info(pageAnime, 'Rating:')\n",
    "        studio = get_info(pageAnime, 'Studios:')\n",
    "        animeType=get_info(pageAnime, 'Type:')\n",
    "        \n",
    "        anime={\n",
    "            'title':anime_title,\n",
    "            'score':anime_score,\n",
    "            'rank':ranking,\n",
    "            'studio':studio,\n",
    "            'animeType':animeType,\n",
    "            'episode':episode,\n",
    "            'description':anime_description,\n",
    "            'rating':rate,\n",
    "            'aired':aired,\n",
    "            'imageUrl':image_src,\n",
    "            'genre':[g.text for g in anime_genre],\n",
    "            'recommended':anime_recommend,\n",
    "            'mixed feeling':anime_mixedfeelings,\n",
    "            'not-recommended':anime_notRecommend,            \n",
    "        }\n",
    "\n",
    "        animeList.append(anime)\n",
    "        time.sleep(2)\n"
   ]
  },
  {
   "cell_type": "code",
   "execution_count": 10,
   "id": "d5e8aaba-7405-465d-8580-b1580efe8996",
   "metadata": {},
   "outputs": [],
   "source": [
    "df=pd.DataFrame(animeList)\n",
    "df1=pd.read_csv('')\n",
    "df.to_csv('', mode='a', index=False, header=False)"
   ]
  }
 ],
 "metadata": {
  "kernelspec": {
   "display_name": "Python 3 (ipykernel)",
   "language": "python",
   "name": "python3"
  },
  "language_info": {
   "codemirror_mode": {
    "name": "ipython",
    "version": 3
   },
   "file_extension": ".py",
   "mimetype": "text/x-python",
   "name": "python",
   "nbconvert_exporter": "python",
   "pygments_lexer": "ipython3",
   "version": "3.12.3"
  }
 },
 "nbformat": 4,
 "nbformat_minor": 5
}
